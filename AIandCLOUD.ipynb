{
  "nbformat": 4,
  "nbformat_minor": 0,
  "metadata": {
    "colab": {
      "provenance": []
    },
    "kernelspec": {
      "name": "python3",
      "display_name": "Python 3"
    },
    "language_info": {
      "name": "python"
    }
  },
  "cells": [
    {
      "cell_type": "code",
      "metadata": {
        "colab": {
          "base_uri": "https://localhost:8080/"
        },
        "id": "5d1de012",
        "outputId": "c4b71bc8-c8ea-4846-d24b-69b4d942c286"
      },
      "source": [
        "!pip install streamlit transformers openai langchain"
      ],
      "execution_count": 6,
      "outputs": [
        {
          "output_type": "stream",
          "name": "stdout",
          "text": [
            "Requirement already satisfied: streamlit in /usr/local/lib/python3.12/dist-packages (1.50.0)\n",
            "Requirement already satisfied: transformers in /usr/local/lib/python3.12/dist-packages (4.56.2)\n",
            "Requirement already satisfied: openai in /usr/local/lib/python3.12/dist-packages (1.109.1)\n",
            "Requirement already satisfied: langchain in /usr/local/lib/python3.12/dist-packages (0.3.27)\n",
            "Requirement already satisfied: altair!=5.4.0,!=5.4.1,<6,>=4.0 in /usr/local/lib/python3.12/dist-packages (from streamlit) (5.5.0)\n",
            "Requirement already satisfied: blinker<2,>=1.5.0 in /usr/local/lib/python3.12/dist-packages (from streamlit) (1.9.0)\n",
            "Requirement already satisfied: cachetools<7,>=4.0 in /usr/local/lib/python3.12/dist-packages (from streamlit) (5.5.2)\n",
            "Requirement already satisfied: click<9,>=7.0 in /usr/local/lib/python3.12/dist-packages (from streamlit) (8.3.0)\n",
            "Requirement already satisfied: numpy<3,>=1.23 in /usr/local/lib/python3.12/dist-packages (from streamlit) (2.0.2)\n",
            "Requirement already satisfied: packaging<26,>=20 in /usr/local/lib/python3.12/dist-packages (from streamlit) (25.0)\n",
            "Requirement already satisfied: pandas<3,>=1.4.0 in /usr/local/lib/python3.12/dist-packages (from streamlit) (2.2.2)\n",
            "Requirement already satisfied: pillow<12,>=7.1.0 in /usr/local/lib/python3.12/dist-packages (from streamlit) (11.3.0)\n",
            "Requirement already satisfied: protobuf<7,>=3.20 in /usr/local/lib/python3.12/dist-packages (from streamlit) (5.29.5)\n",
            "Requirement already satisfied: pyarrow>=7.0 in /usr/local/lib/python3.12/dist-packages (from streamlit) (18.1.0)\n",
            "Requirement already satisfied: requests<3,>=2.27 in /usr/local/lib/python3.12/dist-packages (from streamlit) (2.32.4)\n",
            "Requirement already satisfied: tenacity<10,>=8.1.0 in /usr/local/lib/python3.12/dist-packages (from streamlit) (8.5.0)\n",
            "Requirement already satisfied: toml<2,>=0.10.1 in /usr/local/lib/python3.12/dist-packages (from streamlit) (0.10.2)\n",
            "Requirement already satisfied: typing-extensions<5,>=4.4.0 in /usr/local/lib/python3.12/dist-packages (from streamlit) (4.15.0)\n",
            "Requirement already satisfied: watchdog<7,>=2.1.5 in /usr/local/lib/python3.12/dist-packages (from streamlit) (6.0.0)\n",
            "Requirement already satisfied: gitpython!=3.1.19,<4,>=3.0.7 in /usr/local/lib/python3.12/dist-packages (from streamlit) (3.1.45)\n",
            "Requirement already satisfied: pydeck<1,>=0.8.0b4 in /usr/local/lib/python3.12/dist-packages (from streamlit) (0.9.1)\n",
            "Requirement already satisfied: tornado!=6.5.0,<7,>=6.0.3 in /usr/local/lib/python3.12/dist-packages (from streamlit) (6.4.2)\n",
            "Requirement already satisfied: filelock in /usr/local/lib/python3.12/dist-packages (from transformers) (3.19.1)\n",
            "Requirement already satisfied: huggingface-hub<1.0,>=0.34.0 in /usr/local/lib/python3.12/dist-packages (from transformers) (0.35.3)\n",
            "Requirement already satisfied: pyyaml>=5.1 in /usr/local/lib/python3.12/dist-packages (from transformers) (6.0.3)\n",
            "Requirement already satisfied: regex!=2019.12.17 in /usr/local/lib/python3.12/dist-packages (from transformers) (2024.11.6)\n",
            "Requirement already satisfied: tokenizers<=0.23.0,>=0.22.0 in /usr/local/lib/python3.12/dist-packages (from transformers) (0.22.1)\n",
            "Requirement already satisfied: safetensors>=0.4.3 in /usr/local/lib/python3.12/dist-packages (from transformers) (0.6.2)\n",
            "Requirement already satisfied: tqdm>=4.27 in /usr/local/lib/python3.12/dist-packages (from transformers) (4.67.1)\n",
            "Requirement already satisfied: anyio<5,>=3.5.0 in /usr/local/lib/python3.12/dist-packages (from openai) (4.11.0)\n",
            "Requirement already satisfied: distro<2,>=1.7.0 in /usr/local/lib/python3.12/dist-packages (from openai) (1.9.0)\n",
            "Requirement already satisfied: httpx<1,>=0.23.0 in /usr/local/lib/python3.12/dist-packages (from openai) (0.28.1)\n",
            "Requirement already satisfied: jiter<1,>=0.4.0 in /usr/local/lib/python3.12/dist-packages (from openai) (0.11.0)\n",
            "Requirement already satisfied: pydantic<3,>=1.9.0 in /usr/local/lib/python3.12/dist-packages (from openai) (2.11.9)\n",
            "Requirement already satisfied: sniffio in /usr/local/lib/python3.12/dist-packages (from openai) (1.3.1)\n",
            "Requirement already satisfied: langchain-core<1.0.0,>=0.3.72 in /usr/local/lib/python3.12/dist-packages (from langchain) (0.3.77)\n",
            "Requirement already satisfied: langchain-text-splitters<1.0.0,>=0.3.9 in /usr/local/lib/python3.12/dist-packages (from langchain) (0.3.11)\n",
            "Requirement already satisfied: langsmith>=0.1.17 in /usr/local/lib/python3.12/dist-packages (from langchain) (0.4.31)\n",
            "Requirement already satisfied: SQLAlchemy<3,>=1.4 in /usr/local/lib/python3.12/dist-packages (from langchain) (2.0.43)\n",
            "Requirement already satisfied: jinja2 in /usr/local/lib/python3.12/dist-packages (from altair!=5.4.0,!=5.4.1,<6,>=4.0->streamlit) (3.1.6)\n",
            "Requirement already satisfied: jsonschema>=3.0 in /usr/local/lib/python3.12/dist-packages (from altair!=5.4.0,!=5.4.1,<6,>=4.0->streamlit) (4.25.1)\n",
            "Requirement already satisfied: narwhals>=1.14.2 in /usr/local/lib/python3.12/dist-packages (from altair!=5.4.0,!=5.4.1,<6,>=4.0->streamlit) (2.6.0)\n",
            "Requirement already satisfied: idna>=2.8 in /usr/local/lib/python3.12/dist-packages (from anyio<5,>=3.5.0->openai) (3.10)\n",
            "Requirement already satisfied: gitdb<5,>=4.0.1 in /usr/local/lib/python3.12/dist-packages (from gitpython!=3.1.19,<4,>=3.0.7->streamlit) (4.0.12)\n",
            "Requirement already satisfied: certifi in /usr/local/lib/python3.12/dist-packages (from httpx<1,>=0.23.0->openai) (2025.8.3)\n",
            "Requirement already satisfied: httpcore==1.* in /usr/local/lib/python3.12/dist-packages (from httpx<1,>=0.23.0->openai) (1.0.9)\n",
            "Requirement already satisfied: h11>=0.16 in /usr/local/lib/python3.12/dist-packages (from httpcore==1.*->httpx<1,>=0.23.0->openai) (0.16.0)\n",
            "Requirement already satisfied: fsspec>=2023.5.0 in /usr/local/lib/python3.12/dist-packages (from huggingface-hub<1.0,>=0.34.0->transformers) (2025.3.0)\n",
            "Requirement already satisfied: hf-xet<2.0.0,>=1.1.3 in /usr/local/lib/python3.12/dist-packages (from huggingface-hub<1.0,>=0.34.0->transformers) (1.1.10)\n",
            "Requirement already satisfied: jsonpatch<2.0.0,>=1.33.0 in /usr/local/lib/python3.12/dist-packages (from langchain-core<1.0.0,>=0.3.72->langchain) (1.33)\n",
            "Requirement already satisfied: orjson>=3.9.14 in /usr/local/lib/python3.12/dist-packages (from langsmith>=0.1.17->langchain) (3.11.3)\n",
            "Requirement already satisfied: requests-toolbelt>=1.0.0 in /usr/local/lib/python3.12/dist-packages (from langsmith>=0.1.17->langchain) (1.0.0)\n",
            "Requirement already satisfied: zstandard>=0.23.0 in /usr/local/lib/python3.12/dist-packages (from langsmith>=0.1.17->langchain) (0.25.0)\n",
            "Requirement already satisfied: python-dateutil>=2.8.2 in /usr/local/lib/python3.12/dist-packages (from pandas<3,>=1.4.0->streamlit) (2.9.0.post0)\n",
            "Requirement already satisfied: pytz>=2020.1 in /usr/local/lib/python3.12/dist-packages (from pandas<3,>=1.4.0->streamlit) (2025.2)\n",
            "Requirement already satisfied: tzdata>=2022.7 in /usr/local/lib/python3.12/dist-packages (from pandas<3,>=1.4.0->streamlit) (2025.2)\n",
            "Requirement already satisfied: annotated-types>=0.6.0 in /usr/local/lib/python3.12/dist-packages (from pydantic<3,>=1.9.0->openai) (0.7.0)\n",
            "Requirement already satisfied: pydantic-core==2.33.2 in /usr/local/lib/python3.12/dist-packages (from pydantic<3,>=1.9.0->openai) (2.33.2)\n",
            "Requirement already satisfied: typing-inspection>=0.4.0 in /usr/local/lib/python3.12/dist-packages (from pydantic<3,>=1.9.0->openai) (0.4.2)\n",
            "Requirement already satisfied: charset_normalizer<4,>=2 in /usr/local/lib/python3.12/dist-packages (from requests<3,>=2.27->streamlit) (3.4.3)\n",
            "Requirement already satisfied: urllib3<3,>=1.21.1 in /usr/local/lib/python3.12/dist-packages (from requests<3,>=2.27->streamlit) (2.5.0)\n",
            "Requirement already satisfied: greenlet>=1 in /usr/local/lib/python3.12/dist-packages (from SQLAlchemy<3,>=1.4->langchain) (3.2.4)\n",
            "Requirement already satisfied: smmap<6,>=3.0.1 in /usr/local/lib/python3.12/dist-packages (from gitdb<5,>=4.0.1->gitpython!=3.1.19,<4,>=3.0.7->streamlit) (5.0.2)\n",
            "Requirement already satisfied: MarkupSafe>=2.0 in /usr/local/lib/python3.12/dist-packages (from jinja2->altair!=5.4.0,!=5.4.1,<6,>=4.0->streamlit) (3.0.3)\n",
            "Requirement already satisfied: jsonpointer>=1.9 in /usr/local/lib/python3.12/dist-packages (from jsonpatch<2.0.0,>=1.33.0->langchain-core<1.0.0,>=0.3.72->langchain) (3.0.0)\n",
            "Requirement already satisfied: attrs>=22.2.0 in /usr/local/lib/python3.12/dist-packages (from jsonschema>=3.0->altair!=5.4.0,!=5.4.1,<6,>=4.0->streamlit) (25.3.0)\n",
            "Requirement already satisfied: jsonschema-specifications>=2023.03.6 in /usr/local/lib/python3.12/dist-packages (from jsonschema>=3.0->altair!=5.4.0,!=5.4.1,<6,>=4.0->streamlit) (2025.9.1)\n",
            "Requirement already satisfied: referencing>=0.28.4 in /usr/local/lib/python3.12/dist-packages (from jsonschema>=3.0->altair!=5.4.0,!=5.4.1,<6,>=4.0->streamlit) (0.36.2)\n",
            "Requirement already satisfied: rpds-py>=0.7.1 in /usr/local/lib/python3.12/dist-packages (from jsonschema>=3.0->altair!=5.4.0,!=5.4.1,<6,>=4.0->streamlit) (0.27.1)\n",
            "Requirement already satisfied: six>=1.5 in /usr/local/lib/python3.12/dist-packages (from python-dateutil>=2.8.2->pandas<3,>=1.4.0->streamlit) (1.17.0)\n"
          ]
        }
      ]
    },
    {
      "cell_type": "code",
      "metadata": {
        "colab": {
          "base_uri": "https://localhost:8080/"
        },
        "id": "c7ebd942",
        "outputId": "9fde887f-c72d-45b3-bb35-e4f0f0c28d94"
      },
      "source": [
        "%%writefile app.py\n",
        "import streamlit as st\n",
        "import transformers\n",
        "import openai\n",
        "import langchain\n",
        "import os\n",
        "\n",
        "st.title(\"AI-Powered Resume, Cover Letter, and Portfolio Generator\")\n",
        "\n",
        "st.subheader(\"Enter Your Information\")\n",
        "skills = st.text_area(\"Skills (comma-separated)\", \"\")\n",
        "projects = st.text_area(\"Projects (list each project on a new line)\", \"\")\n",
        "experience = st.text_area(\"Experience (list each job/role on a new line)\", \"\")\n",
        "\n",
        "st.subheader(\"Customization Options\")\n",
        "resume_template = st.selectbox(\"Select Resume Template\", [\"Classic\", \"Modern\", \"Creative\"])\n",
        "tone = st.radio(\"Preferred Tone\", [\"Professional\", \"Creative\", \"Enthusiastic\"])\n",
        "\n",
        "st.subheader(\"Generated Content\")\n",
        "# Use st.empty() to create containers for the output\n",
        "resume_output_container = st.empty()\n",
        "cover_letter_output_container = st.empty()\n",
        "portfolio_output_container = st.empty()\n",
        "\n",
        "\n",
        "st.subheader(\"Portfolio Projects\")\n",
        "\n",
        "# Initialize a list to store project data in session state\n",
        "if 'project_data' not in st.session_state:\n",
        "    st.session_state.project_data = []\n",
        "\n",
        "num_projects = st.number_input(\"Number of Projects\", min_value=0, value=len(st.session_state.project_data), step=1)\n",
        "\n",
        "# Adjust the length of project_data list based on num_projects\n",
        "if num_projects > len(st.session_state.project_data):\n",
        "    for _ in range(num_projects - len(st.session_state.project_data)):\n",
        "        st.session_state.project_data.append({\n",
        "            \"title\": \"\",\n",
        "            \"description\": \"\",\n",
        "            \"link\": \"\",\n",
        "            \"image\": None\n",
        "        })\n",
        "elif num_projects < len(st.session_state.project_data):\n",
        "    st.session_state.project_data = st.session_state.project_data[:num_projects]\n",
        "\n",
        "\n",
        "for i in range(num_projects):\n",
        "    st.markdown(f\"#### Project {i+1}\")\n",
        "    st.session_state.project_data[i][\"title\"] = st.text_input(f\"Project {i+1} Title\", value=st.session_state.project_data[i][\"title\"], key=f\"project_title_{i}\")\n",
        "    st.session_state.project_data[i][\"description\"] = st.text_area(f\"Project {i+1} Description\", value=st.session_state.project_data[i][\"description\"], key=f\"project_description_{i}\")\n",
        "    st.session_state.project_data[i][\"link\"] = st.text_input(f\"Project {i+1} Link (URL)\", value=st.session_state.project_data[i][\"link\"], key=f\"project_link_{i}\")\n",
        "    st.session_state.project_data[i][\"image\"] = st.file_uploader(f\"Upload Image for Project {i+1} (Optional)\", type=[\"png\", \"jpg\", \"jpeg\"], key=f\"project_image_{i}\")\n",
        "\n",
        "\n",
        "generate_button = st.button(\"Generate Content\")\n",
        "\n",
        "# Function to generate text using the OpenAI API\n",
        "def generate_text(prompt):\n",
        "    \"\"\"Generates text using the OpenAI API.\"\"\"\n",
        "    openai_api_key = os.getenv(\"OPENAI_API_KEY\") or st.secrets.get(\"OPENAI_API_KEY\")\n",
        "    if not openai_api_key:\n",
        "        st.error(\"OpenAI API key not found. Please set the OPENAI_API_KEY environment variable or Streamlit secret.\")\n",
        "        return None\n",
        "\n",
        "    try:\n",
        "        client = OpenAI(api_key=openai_api_key)\n",
        "        response = client.chat.completions.create(\n",
        "            model=\"gpt-3.5-turbo\", # Or another suitable model\n",
        "            messages=[{\"role\": \"user\", \"content\": prompt}],\n",
        "            max_tokens=500, # Increased max_tokens for longer output\n",
        "            n=1,\n",
        "            stop=None,\n",
        "            temperature=0.7,\n",
        "        )\n",
        "        return response.choices[0].message.content.strip()\n",
        "    except Exception as e:\n",
        "        st.error(f\"Error generating text: {e}\")\n",
        "        return None\n",
        "\n",
        "# CSS Styling\n",
        "css_style = \"\"\"\n",
        "<style>\n",
        "body {\n",
        "    font-family: 'Arial', sans-serif;\n",
        "    line-height: 1.6;\n",
        "    color: #333;\n",
        "}\n",
        ".generated-content h3 {\n",
        "    color: #0056b3;\n",
        "    margin-top: 20px;\n",
        "    margin-bottom: 10px;\n",
        "    border-bottom: 2px solid #0056b3;\n",
        "    padding-bottom: 5px;\n",
        "}\n",
        ".generated-content ul, .generated-content p {\n",
        "    margin-bottom: 15px;\n",
        "}\n",
        ".generated-content li {\n",
        "    margin-bottom: 5px;\n",
        "}\n",
        ".resume-section, .cover-letter-section, .portfolio-section {\n",
        "    border: 1px solid #ddd;\n",
        "    padding: 15px;\n",
        "    border-radius: 8px;\n",
        "    margin-bottom: 20px;\n",
        "    background-color: #f9f9f9;\n",
        "}\n",
        "</style>\n",
        "\"\"\"\n",
        "\n",
        "st.markdown(css_style, unsafe_allow_html=True)\n",
        "\n",
        "\n",
        "if generate_button:\n",
        "    # Capture user input\n",
        "    user_skills = skills\n",
        "    user_projects_text = projects # Renamed to avoid conflict with project_data list\n",
        "    user_experience = experience\n",
        "\n",
        "    # Basic cleaning and formatting for text areas\n",
        "    processed_skills = [skill.strip() for skill in user_skills.split(',') if skill.strip()]\n",
        "    processed_projects_text_list = [project.strip() for project in user_projects_text.split('\\n') if project.strip()]\n",
        "    processed_experience = [exp.strip() for exp in user_experience.split('\\n') if exp.strip()]\n",
        "\n",
        "    # Combine text area projects and structured project data for the AI prompt\n",
        "    all_projects_for_ai = processed_projects_text_list + [f\"{p['title']}: {p['description']}\" for p in st.session_state.project_data if p[\"title\"] or p[\"description\"]]\n",
        "\n",
        "\n",
        "    # Define prompts for the AI model\n",
        "    resume_prompt = f\"\"\"Generate a professional resume summary based on the following information:\n",
        "Skills: {', '.join(processed_skills)}\n",
        "Projects: {'; '.join(all_projects_for_ai)}\n",
        "Experience: {'; '.join(processed_experience)}\n",
        "Resume Template Style: {resume_template}\n",
        "Tone: {tone}\n",
        "Format the output using markdown or basic HTML for structure (e.g., headings, bullet points).\n",
        "\"\"\"\n",
        "\n",
        "    cover_letter_prompt = f\"\"\"Write a compelling cover letter introduction and body based on the following information:\n",
        "Skills: {', '.join(processed_skills)}\n",
        "Projects: {'; '.join(all_projects_for_ai)}\n",
        "Experience: {'; '.join(processed_experience)}\n",
        "Desired Tone: {tone}\n",
        "Format the output using markdown or basic HTML for structure (e.g., paragraphs).\n",
        "\"\"\"\n",
        "\n",
        "    portfolio_prompt = f\"\"\"Create a concise portfolio summary highlighting key projects and skills based on the following information:\n",
        "Skills: {', '.join(processed_skills)}\n",
        "Experience: {'; '.join(processed_experience)}\n",
        "Projects:\n",
        "{'; '.join(all_projects_for_ai)}\n",
        "Desired Tone: {tone}\n",
        "Format the output using markdown or basic HTML for structure (e.g., headings, lists).\n",
        "\"\"\"\n",
        "\n",
        "    # Generate content using the AI model\n",
        "    with st.spinner(\"Generating content...\"):\n",
        "        generated_resume = generate_text(resume_prompt)\n",
        "        generated_cover_letter = generate_text(cover_letter_prompt)\n",
        "        generated_portfolio = generate_text(portfolio_prompt)\n",
        "\n",
        "\n",
        "    # Update the output sections using the containers created earlier\n",
        "    if generated_resume:\n",
        "        styled_resume = f'<div class=\"generated-content resume-section\"><h3>Generated Resume</h3>{generated_resume}</div>'\n",
        "        resume_output_container.markdown(styled_resume, unsafe_allow_html=True)\n",
        "        # Add download button for resume (text format for simplicity initially)\n",
        "        st.download_button(\n",
        "            label=\"Download Resume (Text)\",\n",
        "            data=generated_resume,\n",
        "            file_name=\"resume.txt\",\n",
        "            mime=\"text/plain\"\n",
        "        )\n",
        "        # Placeholder for PDF/DOCX download\n",
        "        st.info(\"More download options (PDF, DOCX) coming soon!\")\n",
        "\n",
        "\n",
        "    if generated_cover_letter:\n",
        "        styled_cover_letter = f'<div class=\"generated-content cover-letter-section\"><h3>Generated Cover Letter</h3>{generated_cover_letter}</div>'\n",
        "        cover_letter_output_container.markdown(styled_cover_letter, unsafe_allow_html=True)\n",
        "        # Add download button for cover letter (text format for simplicity initially)\n",
        "        st.download_button(\n",
        "            label=\"Download Cover Letter (Text)\",\n",
        "            data=generated_cover_letter,\n",
        "            file_name=\"cover_letter.txt\",\n",
        "            mime=\"text/plain\"\n",
        "        )\n",
        "        # Placeholder for PDF/DOCX download\n",
        "        st.info(\"More download options (PDF, DOCX) coming soon!\")\n",
        "\n",
        "\n",
        "    if generated_portfolio:\n",
        "        styled_portfolio = f'<div class=\"generated-content portfolio-section\"><h3>Generated Portfolio Summary</h3>{generated_portfolio}</div>'\n",
        "        portfolio_output_container.markdown(styled_portfolio, unsafe_allow_html=True)\n",
        "        # Placeholder for portfolio share/export options\n",
        "        st.info(\"Portfolio share and export options coming soon!\")"
      ],
      "execution_count": 11,
      "outputs": [
        {
          "output_type": "stream",
          "name": "stdout",
          "text": [
            "Writing app.py\n"
          ]
        }
      ]
    },
    {
      "cell_type": "code",
      "metadata": {
        "colab": {
          "base_uri": "https://localhost:8080/"
        },
        "id": "3f598a17",
        "outputId": "07af495d-ccc9-4689-9eed-f2cd534afc9a"
      },
      "source": [
        "# Install ngrok\n",
        "!pip install pyngrok\n",
        "\n",
        "# Run Streamlit in the background and expose it via ngrok\n",
        "from pyngrok import ngrok\n",
        "import time\n",
        "import sys\n",
        "\n",
        "# Terminate any existing ngrok tunnels\n",
        "ngrok.kill()\n",
        "\n",
        "# Add your ngrok authtoken here. You can get it from your ngrok dashboard.\n",
        "# Replace \"YOUR_NGROK_AUTHTOKEN\" with your actual authtoken.\n",
        "ngrok.set_auth_token(\"33eMTAnffIIYtGyZbyAPVCDfgI9_Jo9Qe1bkvkGrP1BcLXir\")\n",
        "\n",
        "# Set up a tunnel after the Streamlit app is started in a separate cell\n",
        "# We'll use a small delay to give the Streamlit app time to start\n",
        "time.sleep(10) # Increased sleep time to be safe\n",
        "\n",
        "try:\n",
        "    public_url = ngrok.connect(\"8501\")\n",
        "    print(f\"Your Streamlit app is running at: {public_url}\")\n",
        "except Exception as e:\n",
        "    print(f\"Failed to create ngrok tunnel: {e}\")\n",
        "    print(\"Please ensure the Streamlit app is running in a separate cell.\")"
      ],
      "execution_count": 16,
      "outputs": [
        {
          "output_type": "stream",
          "name": "stdout",
          "text": [
            "Requirement already satisfied: pyngrok in /usr/local/lib/python3.12/dist-packages (7.4.0)\n",
            "Requirement already satisfied: PyYAML>=5.1 in /usr/local/lib/python3.12/dist-packages (from pyngrok) (6.0.3)\n"
          ]
        },
        {
          "output_type": "stream",
          "name": "stderr",
          "text": [
            "ERROR:pyngrok.process.ngrok:t=2025-10-05T14:26:49+0000 lvl=eror msg=\"failed to reconnect session\" obj=tunnels.session err=\"authentication failed: The authtoken you specified is properly formed, but it is invalid.\\nYour authtoken: 33eMTAnffIIYtGyZbyAPVCDfgI9_Jo9Qe1bkvkGrP1BcLXir\\nThis usually happens when:\\n    - You reset your authtoken\\n    - Your authtoken was for a team account that you were removed from\\n    - You are using ngrok link and this credential was explicitly revoked\\nGo to your ngrok dashboard and double check that your authtoken is correct:\\nhttps://dashboard.ngrok.com/get-started/your-authtoken\\r\\n\\r\\nERR_NGROK_107\\r\\n\"\n",
            "ERROR:pyngrok.process.ngrok:t=2025-10-05T14:26:49+0000 lvl=eror msg=\"session closing\" obj=tunnels.session err=\"authentication failed: The authtoken you specified is properly formed, but it is invalid.\\nYour authtoken: 33eMTAnffIIYtGyZbyAPVCDfgI9_Jo9Qe1bkvkGrP1BcLXir\\nThis usually happens when:\\n    - You reset your authtoken\\n    - Your authtoken was for a team account that you were removed from\\n    - You are using ngrok link and this credential was explicitly revoked\\nGo to your ngrok dashboard and double check that your authtoken is correct:\\nhttps://dashboard.ngrok.com/get-started/your-authtoken\\r\\n\\r\\nERR_NGROK_107\\r\\n\"\n"
          ]
        },
        {
          "output_type": "stream",
          "name": "stdout",
          "text": [
            "Failed to create ngrok tunnel: The ngrok process errored on start: authentication failed: The authtoken you specified is properly formed, but it is invalid.\\nYour authtoken: 33eMTAnffIIYtGyZbyAPVCDfgI9_Jo9Qe1bkvkGrP1BcLXir\\nThis usually happens when:\\n    - You reset your authtoken\\n    - Your authtoken was for a team account that you were removed from\\n    - You are using ngrok link and this credential was explicitly revoked\\nGo to your ngrok dashboard and double check that your authtoken is correct:\\nhttps://dashboard.ngrok.com/get-started/your-authtoken\\r\\n\\r\\nERR_NGROK_107\\r\\n.\n",
            "Please ensure the Streamlit app is running in a separate cell.\n"
          ]
        }
      ]
    },
    {
      "cell_type": "code",
      "metadata": {
        "colab": {
          "base_uri": "https://localhost:8080/"
        },
        "id": "b905f2e8",
        "outputId": "94ae1f32-848d-47cd-b84c-8bdf96c34d55"
      },
      "source": [
        "# Run the Streamlit app in the background\n",
        "!streamlit run /content/app.py &"
      ],
      "execution_count": 20,
      "outputs": [
        {
          "output_type": "stream",
          "name": "stdout",
          "text": [
            "Usage: streamlit run [OPTIONS] TARGET [ARGS]...\n",
            "Try 'streamlit run --help' for help.\n",
            "\n",
            "Error: Invalid value: File does not exist: /content/app.py\n"
          ]
        }
      ]
    },
    {
      "cell_type": "code",
      "metadata": {
        "colab": {
          "base_uri": "https://localhost:8080/"
        },
        "id": "71f096d2",
        "outputId": "fa8dafb3-4878-4133-e376-1052ee2af80b"
      },
      "source": [
        "# Find the path to the streamlit executable\n",
        "!which streamlit"
      ],
      "execution_count": 8,
      "outputs": [
        {
          "output_type": "stream",
          "name": "stdout",
          "text": [
            "/usr/local/bin/streamlit\n"
          ]
        }
      ]
    },
    {
      "cell_type": "markdown",
      "metadata": {
        "id": "b2d05be3"
      },
      "source": [
        "After running the cell above, you'll get the path to the `streamlit` executable. Copy that path and I will update the `subprocess.Popen` command in the next cell."
      ]
    }
  ]
}